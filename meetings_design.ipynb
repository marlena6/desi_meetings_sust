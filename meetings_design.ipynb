{
 "cells": [
  {
   "cell_type": "code",
   "execution_count": 9,
   "id": "a1f0945f-370f-4db8-9270-3434ef214415",
   "metadata": {},
   "outputs": [
    {
     "data": {
      "application/vnd.jupyter.widget-view+json": {
       "model_id": "d1280193d00240ca9ab8d1940c6019b5",
       "version_major": 2,
       "version_minor": 0
      },
      "text/plain": [
       "IntSlider(value=1, description='Number of meetings over two years:', layout=Layout(width='500px'), max=10, min…"
      ]
     },
     "metadata": {},
     "output_type": "display_data"
    },
    {
     "data": {
      "application/vnd.jupyter.widget-view+json": {
       "model_id": "f177d76cd1194bfc8cd7b50dccb57c66",
       "version_major": 2,
       "version_minor": 0
      },
      "text/plain": [
       "Output()"
      ]
     },
     "metadata": {},
     "output_type": "display_data"
    },
    {
     "data": {
      "application/vnd.jupyter.widget-view+json": {
       "model_id": "a00ae75b63a84dcf85094fad9705cbda",
       "version_major": 2,
       "version_minor": 0
      },
      "text/plain": [
       "Output()"
      ]
     },
     "metadata": {},
     "output_type": "display_data"
    }
   ],
   "source": [
    "import ipywidgets as widgets\n",
    "from IPython.display import display, clear_output\n",
    "\n",
    "# Define options for meetings\n",
    "meeting_options = {\n",
    "    \"Fully remote focus week (0 units)\": 0,\n",
    "    \"Independent 2-Hub (0.49 units)\": 0.49,\n",
    "    \"Independent 3-Hub (0.28 units)\": 0.28,\n",
    "    \"Independent 4-Hub (0.16 units)\": 0.16,\n",
    "    \"Concurrent 2-Hub (0.49 units)\": 0.49,\n",
    "    \"Concurrent 3-Hub (0.28 units)\": 0.28,\n",
    "    \"Concurrent 4-Hub (0.16 units)\": 0.16,\n",
    "    \"Fully in-person meeting in Melbourne (2.32 units)\": 2.32,\n",
    "    \"Fully in-person meeting in Beijing (1.42 units)\": 1.42,\n",
    "    \"Fully in-person meeting in Honolulu (1.32 units)\": 1.32,\n",
    "    \"Fully in-person meeting in Madrid (1.10 units)\": 1.10,\n",
    "    \"Fully in-person meeting in Cancun (1.03 units)\": 1.02,\n",
    "    \"Fully in-person meeting in London (1.00 units)\": 1.00,\n",
    "    \"Fully in-person meeting in Berkeley (0.89 units)\": 0.89,\n",
    "    \"Fully in-person meeting in Ann Arbor (0.82 units)\": 0.82,\n",
    "}\n",
    "\n",
    "# User input: Number of meetings\n",
    "num_meetings_input = widgets.IntSlider(\n",
    "    value=1, min=1, max=10, step=1, \n",
    "    description=\"Number of meetings over two years:\", \n",
    "    style={'description_width': 'auto'},\n",
    "    layout={'width': '500px'}  # Ensures the slider remains visible\n",
    ")\n",
    "\n",
    "# Output area for dropdowns\n",
    "dropdown_output = widgets.Output()\n",
    "# Output area for results\n",
    "result_output = widgets.Output()\n",
    "\n",
    "# List to store dropdowns\n",
    "dropdowns = []\n",
    "\n",
    "# Function to generate dropdowns dynamically\n",
    "def generate_dropdowns(change):\n",
    "    with dropdown_output:\n",
    "        clear_output()\n",
    "        num_meetings = num_meetings_input.value\n",
    "        \n",
    "        # Retain previous selections\n",
    "        existing_values = [dropdown.value for dropdown in dropdowns]\n",
    "\n",
    "        # Clear and recreate dropdowns\n",
    "        dropdowns.clear()\n",
    "        \n",
    "        for i in range(num_meetings):\n",
    "            dropdown = widgets.Dropdown(\n",
    "                options=meeting_options.keys(),\n",
    "                description=f\"Meeting {i+1}:\",\n",
    "                style={'description_width': 'auto'},\n",
    "                layout={'width': '500px'}  # Ensures dropdowns are fully visible\n",
    "            )\n",
    "            \n",
    "            # Restore previous selection if possible\n",
    "            if i < len(existing_values):\n",
    "                dropdown.value = existing_values[i]\n",
    "            \n",
    "            dropdowns.append(dropdown)\n",
    "        \n",
    "        # Display dropdowns\n",
    "        for dropdown in dropdowns:\n",
    "            display(dropdown)\n",
    "        \n",
    "        display(calculate_button)\n",
    "\n",
    "# Function to calculate total units\n",
    "def calculate_total_units(b):\n",
    "    with result_output:\n",
    "        clear_output(wait=True)\n",
    "        total_units = sum(meeting_options[d.value] for d in dropdowns)\n",
    "        \n",
    "        # Display results\n",
    "        print(f\"Total units used: {total_units}\")\n",
    "        if total_units > 2.1:\n",
    "            print(\"You have failed to meet the target of 2 units.\")\n",
    "\n",
    "# Button to calculate total units\n",
    "calculate_button = widgets.Button(description=\"Calculate Total Units\")\n",
    "calculate_button.on_click(calculate_total_units)\n",
    "\n",
    "# Observe changes in number of meetings\n",
    "num_meetings_input.observe(generate_dropdowns, names='value')\n",
    "\n",
    "# Display input field\n",
    "display(num_meetings_input, dropdown_output, result_output)\n"
   ]
  },
  {
   "cell_type": "code",
   "execution_count": null,
   "id": "5d0f82aa-a146-43f0-90c0-b880e6d6f6aa",
   "metadata": {},
   "outputs": [],
   "source": []
  }
 ],
 "metadata": {
  "kernelspec": {
   "display_name": "JESSE",
   "language": "python",
   "name": "jesse"
  },
  "language_info": {
   "codemirror_mode": {
    "name": "ipython",
    "version": 3
   },
   "file_extension": ".py",
   "mimetype": "text/x-python",
   "name": "python",
   "nbconvert_exporter": "python",
   "pygments_lexer": "ipython3",
   "version": "3.9.13"
  }
 },
 "nbformat": 4,
 "nbformat_minor": 5
}
